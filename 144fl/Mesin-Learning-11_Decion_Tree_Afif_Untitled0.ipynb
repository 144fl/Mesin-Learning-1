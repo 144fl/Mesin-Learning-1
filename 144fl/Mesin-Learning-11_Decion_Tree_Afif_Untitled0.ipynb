{
  "nbformat": 4,
  "nbformat_minor": 0,
  "metadata": {
    "colab": {
      "provenance": [],
      "mount_file_id": "1D4xySDwxLTXlKAkBXqjRmRQMsLx-3bmf",
      "authorship_tag": "ABX9TyPsjkvKMB1YSEN83R7VWrio",
      "include_colab_link": true
    },
    "kernelspec": {
      "name": "python3",
      "display_name": "Python 3"
    },
    "language_info": {
      "name": "python"
    }
  },
  "cells": [
    {
      "cell_type": "markdown",
      "metadata": {
        "id": "view-in-github",
        "colab_type": "text"
      },
      "source": [
        "<a href=\"https://colab.research.google.com/github/144fl/Mesin-Learning-1/blob/main/144fl/Mesin-Learning-11_Decion_Tree_Afif_Untitled0.ipynb\" target=\"_parent\"><img src=\"https://colab.research.google.com/assets/colab-badge.svg\" alt=\"Open In Colab\"/></a>"
      ]
    },
    {
      "cell_type": "markdown",
      "source": [],
      "metadata": {
        "id": "nOS6agobOMQH"
      }
    },
    {
      "cell_type": "markdown",
      "source": [
        "Nama : Muhammad Afif Fadhlurrahman\n",
        "NIM  : 1103210161\n",
        "Dataset : melb.house.csv\n",
        "Overview :"
      ],
      "metadata": {
        "id": "Gz9sa6L3OV1A"
      }
    },
    {
      "cell_type": "code",
      "source": [
        "import gdown\n",
        "import pandas as pd\n",
        "from sklearn.model_selection import train_test_split\n",
        "from sklearn.tree import DecisionTreeClassifier\n",
        "from sklearn.metrics import accuracy_score, classification_report\n",
        "\n",
        "# Download file CSV dari Google Drive\n",
        "google_drive_url = '/content/drive/MyDrive/Dataset/melb_data.csv'  # Ganti your_file_id dengan ID file Google Drive Anda\n",
        "output_file = 'melb_house.csv'\n",
        "gdown.download(google_drive_url, output_file, quiet=False)\n",
        "\n",
        "# Load data dari file CSV\n",
        "data = pd.read_csv('melb_house.csv')\n",
        "\n",
        "# Menampilkan beberapa baris pertama data\n",
        "print(data.head())\n",
        "\n",
        "# Pilih fitur dan target\n",
        "X = data.drop('target_column_name', axis=1)  # Ganti 'target_column_name' dengan nama kolom target yang sesuai\n",
        "y = data['target_column_name']\n",
        "\n",
        "# Membagi data menjadi set pelatihan dan pengujian\n",
        "X_train, X_test, y_train, y_test = train_test_split(X, y, test_size=0.2, random_state=42)\n",
        "\n",
        "# Membuat model Decision Tree\n",
        "model = DecisionTreeClassifier()\n",
        "model.fit(X_train, y_train)\n",
        "\n",
        "# Memprediksi target untuk set pengujian\n",
        "y_pred = model.predict(X_test)\n",
        "\n",
        "# Evaluasi model\n",
        "accuracy = accuracy_score(y_test, y_pred)\n",
        "print(f'Accuracy: {accuracy}')\n",
        "\n",
        "# Menampilkan laporan klasifikasi\n",
        "print('Classification Report:')\n",
        "print(classification_report(y_test, y_pred))"
      ],
      "metadata": {
        "id": "U156XI1gp-r6"
      },
      "execution_count": null,
      "outputs": []
    }
  ]
}